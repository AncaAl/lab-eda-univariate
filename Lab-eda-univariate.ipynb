{
 "cells": [
  {
   "cell_type": "code",
   "execution_count": 2,
   "id": "d704f2da-adb4-42f8-bef5-7f9979ab9a24",
   "metadata": {},
   "outputs": [],
   "source": [
    "import pandas as pd\n",
    "import matplotlib.pyplot as plt\n",
    "import seaborn as sns\n",
    "import numpy as np\n",
    "pd.set_option('display.max_rows', 500)  #help to see all the columns\n",
    "\n",
    "%matplotlib inline"
   ]
  },
  {
   "cell_type": "code",
   "execution_count": 3,
   "id": "cd50c52e-e227-4502-81c2-5efc0ce025d5",
   "metadata": {},
   "outputs": [],
   "source": [
    "# Load dataset from a local source: \n",
    "url = '/Users/anca/Desktop/Bootcamp - Ironhack/GitHub/Lab w5/lab-eda-univariate/amz_uk_price_prediction_dataset.csv'\n",
    "df = pd.read_csv(url)"
   ]
  },
  {
   "cell_type": "markdown",
   "id": "a2c18b59-b05c-48b7-bd4a-ae0a1875b5b2",
   "metadata": {},
   "source": [
    "## Part 1: Understanding Product Categories\n",
    "\n",
    "Business Question: What are the most popular product categories on Amazon UK, and how do they compare in terms of listing frequency?"
   ]
  },
  {
   "cell_type": "markdown",
   "id": "3fb8783d-f7a9-483d-ae22-673e92ad4311",
   "metadata": {},
   "source": [
    "### 1.1.Frequency Tables: \n",
    "- Generate a frequency table for the product category.\n",
    "- Which are the top 5 most listed product categories?"
   ]
  },
  {
   "cell_type": "code",
   "execution_count": 4,
   "id": "4febe6fc-4e98-4d7f-853e-f9fd0b560b29",
   "metadata": {},
   "outputs": [
    {
     "data": {
      "text/plain": [
       "(category\n",
       " Sports & Outdoors                                   836265\n",
       " Beauty                                               19312\n",
       " Handmade Clothing, Shoes & Accessories               19229\n",
       " Bath & Body                                          19092\n",
       " Birthday Gifts                                       18978\n",
       " Manicure & Pedicure Products                         18940\n",
       " Skin Care                                            18769\n",
       " Make-up                                              18756\n",
       " Hair Care                                            18735\n",
       " Fragrances                                           18564\n",
       " Handmade Gifts                                       18295\n",
       " Handmade Home Décor                                  18146\n",
       " Luggage and travel gear                              18142\n",
       " Handmade Jewellery                                   18044\n",
       " Handmade Artwork                                     17878\n",
       " Women                                                17772\n",
       " Handmade Home & Kitchen Products                     17435\n",
       " Handmade Kitchen & Dining                            17432\n",
       " Men                                                  17417\n",
       " Baby                                                 15050\n",
       " Handmade                                             14532\n",
       " Boys                                                 11789\n",
       " Girls                                                10310\n",
       " Garden Furniture & Accessories                        9626\n",
       " Keyboards, Mice & Input Devices                       9597\n",
       " Storage & Organisation                                9569\n",
       " Health & Personal Care                                9569\n",
       " Grocery                                               9564\n",
       " Beer, Wine & Spirits                                  9553\n",
       " Arts & Crafts                                         9549\n",
       " Outdoor Cooking                                       9532\n",
       " Scanners & Accessories                                9532\n",
       " Dolls & Accessories                                   9511\n",
       " Binoculars, Telescopes & Optics                       9497\n",
       " Garden Décor                                          9492\n",
       " Building & Construction Toys                          9490\n",
       " Learning & Education Toys                             9487\n",
       " Plants, Seeds & Bulbs                                 9482\n",
       " Kids' Art & Craft Supplies                            9482\n",
       " Barebone PCs                                          9478\n",
       " Printers & Accessories                                9471\n",
       " Kids' Play Figures                                    9471\n",
       " Jigsaws & Puzzles                                     9470\n",
       " Hi-Fi & Home Audio Accessories                        9468\n",
       " Headphones, Earphones & Accessories                   9464\n",
       " Computer Audio & Video Accessories                    9449\n",
       " Sports Supplements                                    9443\n",
       " Pet Supplies                                          9437\n",
       " Garden Storage & Housing                              9427\n",
       " Piano & Keyboard                                      9425\n",
       " Kids' Play Vehicles                                   9421\n",
       " Cycling Shoes                                         9420\n",
       " Media Streaming Devices                               9414\n",
       " Camera & Photo Accessories                            9412\n",
       " Games & Game Accessories                              9396\n",
       " Toy Advent Calendars                                  9396\n",
       " Microphones                                           9395\n",
       " Guitars & Gear                                        9393\n",
       " Recording & Computer                                  9393\n",
       " Car & Motorbike                                       9383\n",
       " Gardening                                             9381\n",
       " Flashes                                               9367\n",
       " Rough Plumbing                                        9365\n",
       " Fireplaces, Stoves & Accessories                      9364\n",
       " Headphones & Earphones                                9359\n",
       " Baby & Toddler Toys                                   9356\n",
       " GPS, Finders & Accessories                            9349\n",
       " Remote & App-Controlled Devices                       9340\n",
       " Surveillance Cameras                                  9333\n",
       " Synthesisers, Samplers & Digital Instruments          9322\n",
       " Sports Toys & Outdoor                                 9319\n",
       " Home Cinema, TV & Video                               9313\n",
       " Networking Devices                                    9295\n",
       " Bird & Wildlife Care                                  9291\n",
       " Office Electronics                                    9271\n",
       " Portable Sound & Video Products                       9263\n",
       " Soft Toys                                             9243\n",
       " Electronic Toys                                       9236\n",
       " Kids' Dress Up & Pretend Play                         9212\n",
       " Hi-Fi Receivers & Separates                           9199\n",
       " Light Bulbs                                           9183\n",
       " Household Batteries, Chargers & Accessories           9182\n",
       " Office Supplies                                       9178\n",
       " Hobbies                                               9174\n",
       " Furniture & Lighting                                  9172\n",
       " Pens, Pencils & Writing Supplies                      9160\n",
       " Office Paper Products                                 9096\n",
       " Safety & Security                                     9070\n",
       " Cables & Accessories                                  9058\n",
       " Painting Supplies, Tools & Wall Treatments            9026\n",
       " Outdoor Lighting                                      9006\n",
       " Data Storage                                          8946\n",
       " Construction Machinery                                8927\n",
       " Garden Tools & Watering Equipment                     8916\n",
       " Wearable Technology                                   8906\n",
       " Electrical Power Accessories                          8885\n",
       " Mobile Phones & Communication                         8882\n",
       " Pools, Hot Tubs & Supplies                            8875\n",
       " CD, Disc & Tape Players                               8798\n",
       " DJ & VJ Equipment                                     8765\n",
       " Telephones, VoIP & Accessories                        8749\n",
       " Hi-Fi Speakers                                        8745\n",
       " PC Gaming Accessories                                 8742\n",
       " Electrical                                            8740\n",
       " Projectors                                            8698\n",
       " Storage & Home Organisation                           8663\n",
       " Power & Hand Tools                                    8659\n",
       " Car & Vehicle Electronics                             8646\n",
       " Motorbike Electrical & Batteries                      8634\n",
       " Indoor Lighting                                       8586\n",
       " School & Educational Supplies                         8581\n",
       " Hardware                                              8570\n",
       " Monitors                                              8565\n",
       " Agricultural Equipment & Supplies                     8530\n",
       " Professional Education Supplies                       8347\n",
       " String Lights                                         8252\n",
       " Small Kitchen Appliances                              8205\n",
       " Building Supplies                                     8130\n",
       " Motorbike Handlebars, Controls & Grips                8093\n",
       " Computer Printers                                     8085\n",
       " Kitchen & Bath Fixtures                               7916\n",
       " Large Appliances                                      7884\n",
       " Tablets                                               7870\n",
       " Mobile Phones & Smartphones                           7836\n",
       " Coffee, Tea & Espresso                                7627\n",
       " Desktop PCs                                           7395\n",
       " Customers' Most Loved                                 7302\n",
       " Laptops                                               7248\n",
       " Radios & Boomboxes                                    7191\n",
       " Smartwatches                                          7179\n",
       " Snow Sledding Equipment                               7131\n",
       " Vacuums & Floorcare                                   6945\n",
       " KVM Switches                                          6925\n",
       " Basketball Footwear                                   6710\n",
       " Table Tennis                                          6507\n",
       " Home Audio Record Players                             6374\n",
       " Handmade Baby Products                                6356\n",
       " Bedding Collections                                   6309\n",
       " Computer Screws                                       6191\n",
       " PC & Video Games                                      6165\n",
       " Golf Shoes                                            5967\n",
       " Living Room Furniture                                 5906\n",
       " External Optical Drives                               5832\n",
       " Network Cards                                         5687\n",
       " External Sound Cards                                  5650\n",
       " Signs & Plaques                                       5282\n",
       " Motorbike Batteries                                   5258\n",
       " Bedroom Furniture                                     5251\n",
       " Motorbike Lighting                                    5210\n",
       " Radio Communication                                   5208\n",
       " Hallway Furniture                                     4894\n",
       " Tripods & Monopods                                    4741\n",
       " Tennis Shoes                                          4685\n",
       " Heating, Cooling & Air Quality                        4469\n",
       " Monitor Accessories                                   4429\n",
       " Cushions & Accessories                                4233\n",
       " Motorbike Instruments                                 4168\n",
       " Boxing Shoes                                          4074\n",
       " 3D Printing & Scanning                                4067\n",
       " Rugs, Pads & Protectors                               4037\n",
       " Outdoor Rope Lights                                   3912\n",
       " Uninterruptible Power Supply Units & Accessories      3653\n",
       " Ballet & Dancing Footwear                             3240\n",
       " Lenses                                                3138\n",
       " Bedding & Linen                                       3115\n",
       " Men's Sports & Outdoor Shoes                          3073\n",
       " Bathroom Furniture                                    2781\n",
       " External TV Tuners & Video Capture Cards              2738\n",
       " Ironing & Steamers                                    2631\n",
       " Karaoke Equipment                                     2483\n",
       " Home Office Furniture                                 2462\n",
       " Equestrian Sports Boots                               2361\n",
       " Made in Italy Handmade                                2227\n",
       " Climbing Footwear                                     2201\n",
       " Home Entertainment Furniture                          2129\n",
       " Dining Room Furniture                                 2113\n",
       " Ski Clothing                                          2033\n",
       " Streaming Clients                                     2025\n",
       " Women's Sports & Outdoor Shoes                        1959\n",
       " SIM Cards                                             1744\n",
       " Mowers & Outdoor Power Tools                          1706\n",
       " Action Cameras                                        1697\n",
       " Digital Cameras                                       1489\n",
       " Snowboard Boots                                       1449\n",
       " Cookware                                              1440\n",
       " Kitchen Storage & Organisation                        1428\n",
       " Downhill Ski Boots                                    1284\n",
       " Home Bar Furniture                                    1203\n",
       " Photo Printers                                        1123\n",
       " Film Cameras                                          1021\n",
       " Boxes & Organisers                                     911\n",
       " Digital Frames                                         774\n",
       " Mattress Pads & Toppers                                769\n",
       " Snowboard Bindings                                     713\n",
       " Curtain & Blind Accessories                            706\n",
       " Gifts for Her                                          691\n",
       " Luxury Food & Drink                                    679\n",
       " Snowboards                                             640\n",
       " Tablet Accessories                                     536\n",
       " Bass Guitars & Gear                                    528\n",
       " Kitchen Tools & Gadgets                                516\n",
       " Coffee & Espresso Machines                             514\n",
       " Camcorders                                             488\n",
       " Motorbike Clothing                                     484\n",
       " Thermometers & Meteorological Instruments              445\n",
       " Motorbike Accessories                                  439\n",
       " Gifts for Him                                          438\n",
       " Lab & Scientific Products                              428\n",
       " Bathroom Linen                                         406\n",
       " USB Gadgets                                            349\n",
       " Cricket Shoes                                          291\n",
       " PA & Stage                                             290\n",
       " Decorative Home Accessories                            272\n",
       " Computers, Components & Accessories                    265\n",
       " Children's Bedding                                     262\n",
       " Home Fragrance                                         261\n",
       " Mobile Phone Accessories                               259\n",
       " General Music-Making Accessories                       259\n",
       " Test & Measurement                                     259\n",
       " Decking & Fencing                                      259\n",
       " Motherboards                                           259\n",
       " Motorbike Exhaust & Exhaust Systems                    258\n",
       " Art & Craft Supplies                                   258\n",
       " I/O Port Cards                                         257\n",
       " Packaging & Shipping Supplies                          257\n",
       " Skiing Poles                                           256\n",
       " Ski Goggles                                            256\n",
       " Hockey Shoes                                           256\n",
       " Professional Medical Supplies                          256\n",
       " Darts & Dartboards                                     255\n",
       " Outdoor Heaters & Fire Pits                            255\n",
       " Cutting Tools                                          255\n",
       " Inflatable Beds, Pillows & Accessories                 254\n",
       " Ski Helmets                                            254\n",
       " Photo Frames                                           254\n",
       " Adapters                                               254\n",
       " Printer Accessories                                    254\n",
       " Bathroom Lighting                                      254\n",
       " Internal TV Tuner & Video Capture Cards                253\n",
       " Downhill Skis                                          252\n",
       " Mirrors                                                250\n",
       " Wind Instruments                                       250\n",
       " Calendars & Personal Organisers                        250\n",
       " Motorbike Drive & Gears                                250\n",
       " Drums & Percussion                                     250\n",
       " String Instruments                                     250\n",
       " USB Hubs                                               250\n",
       " Torches                                                250\n",
       " Motorbike Boots & Luggage                              250\n",
       " Laptop Accessories                                     250\n",
       " Vases                                                  250\n",
       " Trampolines & Accessories                              250\n",
       " Motorbike Brakes                                       250\n",
       " Abrasive & Finishing Products                          250\n",
       " Motorbike Seat Covers                                  249\n",
       " Candles & Holders                                      249\n",
       " Graphics Cards                                         249\n",
       " Tableware                                              249\n",
       " Billiard, Snooker & Pool                               249\n",
       " Doormats                                               249\n",
       " CPUs                                                   249\n",
       " 3D Printers                                            248\n",
       " Computer Memory                                        248\n",
       " Hiking Hand & Foot Warmers                             248\n",
       " Bowling                                                247\n",
       " Power Supplies                                         247\n",
       " Home Brewing & Wine Making                             246\n",
       " eBook Readers & Accessories                            246\n",
       " Decorative Artificial Flora                            245\n",
       " Computer & Server Racks                                244\n",
       " Hydraulics, Pneumatics & Plumbing                      244\n",
       " Internal Optical Drives                                244\n",
       " Blank Media Cases & Wallets                            243\n",
       " Kitchen Linen                                          242\n",
       " Slipcovers                                             240\n",
       " Window Treatments                                      239\n",
       " Bakeware                                               239\n",
       " Clocks                                                 238\n",
       " Computer Cases                                         236\n",
       " Computer Memory Card Accessories                       234\n",
       " Hard Drive Accessories                                 232\n",
       " Motorbike Engines & Engine Parts                       228\n",
       " Industrial Electrical                                  220\n",
       " Bedding Accessories                                    205\n",
       " Home Entertainment                                     196\n",
       " Water Coolers, Filters & Cartridges                    187\n",
       " Cameras                                                182\n",
       " Lights and switches                                    180\n",
       " Material Handling Products                             160\n",
       " Boating Footwear                                       140\n",
       " Lighting                                               133\n",
       " Alexa Built-In Devices                                 107\n",
       " Motorbike Chassis                                      107\n",
       " Plugs                                                  107\n",
       " Smart Home Security & Lighting                         104\n",
       " Smart Speakers                                          54\n",
       " Name: count, dtype: int64,\n",
       " category\n",
       " Sports & Outdoors                                   0.342219\n",
       " Beauty                                              0.007903\n",
       " Handmade Clothing, Shoes & Accessories              0.007869\n",
       " Bath & Body                                         0.007813\n",
       " Birthday Gifts                                      0.007766\n",
       " Manicure & Pedicure Products                        0.007751\n",
       " Skin Care                                           0.007681\n",
       " Make-up                                             0.007675\n",
       " Hair Care                                           0.007667\n",
       " Fragrances                                          0.007597\n",
       " Handmade Gifts                                      0.007487\n",
       " Handmade Home Décor                                 0.007426\n",
       " Luggage and travel gear                             0.007424\n",
       " Handmade Jewellery                                  0.007384\n",
       " Handmade Artwork                                    0.007316\n",
       " Women                                               0.007273\n",
       " Handmade Home & Kitchen Products                    0.007135\n",
       " Handmade Kitchen & Dining                           0.007134\n",
       " Men                                                 0.007127\n",
       " Baby                                                0.006159\n",
       " Handmade                                            0.005947\n",
       " Boys                                                0.004824\n",
       " Girls                                               0.004219\n",
       " Garden Furniture & Accessories                      0.003939\n",
       " Keyboards, Mice & Input Devices                     0.003927\n",
       " Storage & Organisation                              0.003916\n",
       " Health & Personal Care                              0.003916\n",
       " Grocery                                             0.003914\n",
       " Beer, Wine & Spirits                                0.003909\n",
       " Arts & Crafts                                       0.003908\n",
       " Outdoor Cooking                                     0.003901\n",
       " Scanners & Accessories                              0.003901\n",
       " Dolls & Accessories                                 0.003892\n",
       " Binoculars, Telescopes & Optics                     0.003886\n",
       " Garden Décor                                        0.003884\n",
       " Building & Construction Toys                        0.003884\n",
       " Learning & Education Toys                           0.003882\n",
       " Plants, Seeds & Bulbs                               0.003880\n",
       " Kids' Art & Craft Supplies                          0.003880\n",
       " Barebone PCs                                        0.003879\n",
       " Printers & Accessories                              0.003876\n",
       " Kids' Play Figures                                  0.003876\n",
       " Jigsaws & Puzzles                                   0.003875\n",
       " Hi-Fi & Home Audio Accessories                      0.003875\n",
       " Headphones, Earphones & Accessories                 0.003873\n",
       " Computer Audio & Video Accessories                  0.003867\n",
       " Sports Supplements                                  0.003864\n",
       " Pet Supplies                                        0.003862\n",
       " Garden Storage & Housing                            0.003858\n",
       " Piano & Keyboard                                    0.003857\n",
       " Kids' Play Vehicles                                 0.003855\n",
       " Cycling Shoes                                       0.003855\n",
       " Media Streaming Devices                             0.003852\n",
       " Camera & Photo Accessories                          0.003852\n",
       " Games & Game Accessories                            0.003845\n",
       " Toy Advent Calendars                                0.003845\n",
       " Microphones                                         0.003845\n",
       " Guitars & Gear                                      0.003844\n",
       " Recording & Computer                                0.003844\n",
       " Car & Motorbike                                     0.003840\n",
       " Gardening                                           0.003839\n",
       " Flashes                                             0.003833\n",
       " Rough Plumbing                                      0.003832\n",
       " Fireplaces, Stoves & Accessories                    0.003832\n",
       " Headphones & Earphones                              0.003830\n",
       " Baby & Toddler Toys                                 0.003829\n",
       " GPS, Finders & Accessories                          0.003826\n",
       " Remote & App-Controlled Devices                     0.003822\n",
       " Surveillance Cameras                                0.003819\n",
       " Synthesisers, Samplers & Digital Instruments        0.003815\n",
       " Sports Toys & Outdoor                               0.003814\n",
       " Home Cinema, TV & Video                             0.003811\n",
       " Networking Devices                                  0.003804\n",
       " Bird & Wildlife Care                                0.003802\n",
       " Office Electronics                                  0.003794\n",
       " Portable Sound & Video Products                     0.003791\n",
       " Soft Toys                                           0.003782\n",
       " Electronic Toys                                     0.003780\n",
       " Kids' Dress Up & Pretend Play                       0.003770\n",
       " Hi-Fi Receivers & Separates                         0.003764\n",
       " Light Bulbs                                         0.003758\n",
       " Household Batteries, Chargers & Accessories         0.003757\n",
       " Office Supplies                                     0.003756\n",
       " Hobbies                                             0.003754\n",
       " Furniture & Lighting                                0.003753\n",
       " Pens, Pencils & Writing Supplies                    0.003748\n",
       " Office Paper Products                               0.003722\n",
       " Safety & Security                                   0.003712\n",
       " Cables & Accessories                                0.003707\n",
       " Painting Supplies, Tools & Wall Treatments          0.003694\n",
       " Outdoor Lighting                                    0.003685\n",
       " Data Storage                                        0.003661\n",
       " Construction Machinery                              0.003653\n",
       " Garden Tools & Watering Equipment                   0.003649\n",
       " Wearable Technology                                 0.003645\n",
       " Electrical Power Accessories                        0.003636\n",
       " Mobile Phones & Communication                       0.003635\n",
       " Pools, Hot Tubs & Supplies                          0.003632\n",
       " CD, Disc & Tape Players                             0.003600\n",
       " DJ & VJ Equipment                                   0.003587\n",
       " Telephones, VoIP & Accessories                      0.003580\n",
       " Hi-Fi Speakers                                      0.003579\n",
       " PC Gaming Accessories                               0.003577\n",
       " Electrical                                          0.003577\n",
       " Projectors                                          0.003559\n",
       " Storage & Home Organisation                         0.003545\n",
       " Power & Hand Tools                                  0.003543\n",
       " Car & Vehicle Electronics                           0.003538\n",
       " Motorbike Electrical & Batteries                    0.003533\n",
       " Indoor Lighting                                     0.003514\n",
       " School & Educational Supplies                       0.003512\n",
       " Hardware                                            0.003507\n",
       " Monitors                                            0.003505\n",
       " Agricultural Equipment & Supplies                   0.003491\n",
       " Professional Education Supplies                     0.003416\n",
       " String Lights                                       0.003377\n",
       " Small Kitchen Appliances                            0.003358\n",
       " Building Supplies                                   0.003327\n",
       " Motorbike Handlebars, Controls & Grips              0.003312\n",
       " Computer Printers                                   0.003309\n",
       " Kitchen & Bath Fixtures                             0.003239\n",
       " Large Appliances                                    0.003226\n",
       " Tablets                                             0.003221\n",
       " Mobile Phones & Smartphones                         0.003207\n",
       " Coffee, Tea & Espresso                              0.003121\n",
       " Desktop PCs                                         0.003026\n",
       " Customers' Most Loved                               0.002988\n",
       " Laptops                                             0.002966\n",
       " Radios & Boomboxes                                  0.002943\n",
       " Smartwatches                                        0.002938\n",
       " Snow Sledding Equipment                             0.002918\n",
       " Vacuums & Floorcare                                 0.002842\n",
       " KVM Switches                                        0.002834\n",
       " Basketball Footwear                                 0.002746\n",
       " Table Tennis                                        0.002663\n",
       " Home Audio Record Players                           0.002608\n",
       " Handmade Baby Products                              0.002601\n",
       " Bedding Collections                                 0.002582\n",
       " Computer Screws                                     0.002534\n",
       " PC & Video Games                                    0.002523\n",
       " Golf Shoes                                          0.002442\n",
       " Living Room Furniture                               0.002417\n",
       " External Optical Drives                             0.002387\n",
       " Network Cards                                       0.002327\n",
       " External Sound Cards                                0.002312\n",
       " Signs & Plaques                                     0.002162\n",
       " Motorbike Batteries                                 0.002152\n",
       " Bedroom Furniture                                   0.002149\n",
       " Motorbike Lighting                                  0.002132\n",
       " Radio Communication                                 0.002131\n",
       " Hallway Furniture                                   0.002003\n",
       " Tripods & Monopods                                  0.001940\n",
       " Tennis Shoes                                        0.001917\n",
       " Heating, Cooling & Air Quality                      0.001829\n",
       " Monitor Accessories                                 0.001812\n",
       " Cushions & Accessories                              0.001732\n",
       " Motorbike Instruments                               0.001706\n",
       " Boxing Shoes                                        0.001667\n",
       " 3D Printing & Scanning                              0.001664\n",
       " Rugs, Pads & Protectors                             0.001652\n",
       " Outdoor Rope Lights                                 0.001601\n",
       " Uninterruptible Power Supply Units & Accessories    0.001495\n",
       " Ballet & Dancing Footwear                           0.001326\n",
       " Lenses                                              0.001284\n",
       " Bedding & Linen                                     0.001275\n",
       " Men's Sports & Outdoor Shoes                        0.001258\n",
       " Bathroom Furniture                                  0.001138\n",
       " External TV Tuners & Video Capture Cards            0.001120\n",
       " Ironing & Steamers                                  0.001077\n",
       " Karaoke Equipment                                   0.001016\n",
       " Home Office Furniture                               0.001008\n",
       " Equestrian Sports Boots                             0.000966\n",
       " Made in Italy Handmade                              0.000911\n",
       " Climbing Footwear                                   0.000901\n",
       " Home Entertainment Furniture                        0.000871\n",
       " Dining Room Furniture                               0.000865\n",
       " Ski Clothing                                        0.000832\n",
       " Streaming Clients                                   0.000829\n",
       " Women's Sports & Outdoor Shoes                      0.000802\n",
       " SIM Cards                                           0.000714\n",
       " Mowers & Outdoor Power Tools                        0.000698\n",
       " Action Cameras                                      0.000694\n",
       " Digital Cameras                                     0.000609\n",
       " Snowboard Boots                                     0.000593\n",
       " Cookware                                            0.000589\n",
       " Kitchen Storage & Organisation                      0.000584\n",
       " Downhill Ski Boots                                  0.000525\n",
       " Home Bar Furniture                                  0.000492\n",
       " Photo Printers                                      0.000460\n",
       " Film Cameras                                        0.000418\n",
       " Boxes & Organisers                                  0.000373\n",
       " Digital Frames                                      0.000317\n",
       " Mattress Pads & Toppers                             0.000315\n",
       " Snowboard Bindings                                  0.000292\n",
       " Curtain & Blind Accessories                         0.000289\n",
       " Gifts for Her                                       0.000283\n",
       " Luxury Food & Drink                                 0.000278\n",
       " Snowboards                                          0.000262\n",
       " Tablet Accessories                                  0.000219\n",
       " Bass Guitars & Gear                                 0.000216\n",
       " Kitchen Tools & Gadgets                             0.000211\n",
       " Coffee & Espresso Machines                          0.000210\n",
       " Camcorders                                          0.000200\n",
       " Motorbike Clothing                                  0.000198\n",
       " Thermometers & Meteorological Instruments           0.000182\n",
       " Motorbike Accessories                               0.000180\n",
       " Gifts for Him                                       0.000179\n",
       " Lab & Scientific Products                           0.000175\n",
       " Bathroom Linen                                      0.000166\n",
       " USB Gadgets                                         0.000143\n",
       " Cricket Shoes                                       0.000119\n",
       " PA & Stage                                          0.000119\n",
       " Decorative Home Accessories                         0.000111\n",
       " Computers, Components & Accessories                 0.000108\n",
       " Children's Bedding                                  0.000107\n",
       " Home Fragrance                                      0.000107\n",
       " Mobile Phone Accessories                            0.000106\n",
       " General Music-Making Accessories                    0.000106\n",
       " Test & Measurement                                  0.000106\n",
       " Decking & Fencing                                   0.000106\n",
       " Motherboards                                        0.000106\n",
       " Motorbike Exhaust & Exhaust Systems                 0.000106\n",
       " Art & Craft Supplies                                0.000106\n",
       " I/O Port Cards                                      0.000105\n",
       " Packaging & Shipping Supplies                       0.000105\n",
       " Skiing Poles                                        0.000105\n",
       " Ski Goggles                                         0.000105\n",
       " Hockey Shoes                                        0.000105\n",
       " Professional Medical Supplies                       0.000105\n",
       " Darts & Dartboards                                  0.000104\n",
       " Outdoor Heaters & Fire Pits                         0.000104\n",
       " Cutting Tools                                       0.000104\n",
       " Inflatable Beds, Pillows & Accessories              0.000104\n",
       " Ski Helmets                                         0.000104\n",
       " Photo Frames                                        0.000104\n",
       " Adapters                                            0.000104\n",
       " Printer Accessories                                 0.000104\n",
       " Bathroom Lighting                                   0.000104\n",
       " Internal TV Tuner & Video Capture Cards             0.000104\n",
       " Downhill Skis                                       0.000103\n",
       " Mirrors                                             0.000102\n",
       " Wind Instruments                                    0.000102\n",
       " Calendars & Personal Organisers                     0.000102\n",
       " Motorbike Drive & Gears                             0.000102\n",
       " Drums & Percussion                                  0.000102\n",
       " String Instruments                                  0.000102\n",
       " USB Hubs                                            0.000102\n",
       " Torches                                             0.000102\n",
       " Motorbike Boots & Luggage                           0.000102\n",
       " Laptop Accessories                                  0.000102\n",
       " Vases                                               0.000102\n",
       " Trampolines & Accessories                           0.000102\n",
       " Motorbike Brakes                                    0.000102\n",
       " Abrasive & Finishing Products                       0.000102\n",
       " Motorbike Seat Covers                               0.000102\n",
       " Candles & Holders                                   0.000102\n",
       " Graphics Cards                                      0.000102\n",
       " Tableware                                           0.000102\n",
       " Billiard, Snooker & Pool                            0.000102\n",
       " Doormats                                            0.000102\n",
       " CPUs                                                0.000102\n",
       " 3D Printers                                         0.000101\n",
       " Computer Memory                                     0.000101\n",
       " Hiking Hand & Foot Warmers                          0.000101\n",
       " Bowling                                             0.000101\n",
       " Power Supplies                                      0.000101\n",
       " Home Brewing & Wine Making                          0.000101\n",
       " eBook Readers & Accessories                         0.000101\n",
       " Decorative Artificial Flora                         0.000100\n",
       " Computer & Server Racks                             0.000100\n",
       " Hydraulics, Pneumatics & Plumbing                   0.000100\n",
       " Internal Optical Drives                             0.000100\n",
       " Blank Media Cases & Wallets                         0.000099\n",
       " Kitchen Linen                                       0.000099\n",
       " Slipcovers                                          0.000098\n",
       " Window Treatments                                   0.000098\n",
       " Bakeware                                            0.000098\n",
       " Clocks                                              0.000097\n",
       " Computer Cases                                      0.000097\n",
       " Computer Memory Card Accessories                    0.000096\n",
       " Hard Drive Accessories                              0.000095\n",
       " Motorbike Engines & Engine Parts                    0.000093\n",
       " Industrial Electrical                               0.000090\n",
       " Bedding Accessories                                 0.000084\n",
       " Home Entertainment                                  0.000080\n",
       " Water Coolers, Filters & Cartridges                 0.000077\n",
       " Cameras                                             0.000074\n",
       " Lights and switches                                 0.000074\n",
       " Material Handling Products                          0.000065\n",
       " Boating Footwear                                    0.000057\n",
       " Lighting                                            0.000054\n",
       " Alexa Built-In Devices                              0.000044\n",
       " Motorbike Chassis                                   0.000044\n",
       " Plugs                                               0.000044\n",
       " Smart Home Security & Lighting                      0.000043\n",
       " Smart Speakers                                      0.000022\n",
       " Name: proportion, dtype: float64)"
      ]
     },
     "execution_count": 4,
     "metadata": {},
     "output_type": "execute_result"
    }
   ],
   "source": [
    "# Frequency table for 'category'\n",
    "frequency_table = df['category'].value_counts()\n",
    "\n",
    "# Calculating the proportion of each unique value in the 'category'\n",
    "proportion_table = df['category'].value_counts(normalize=True)\n",
    "\n",
    "frequency_table, proportion_table"
   ]
  },
  {
   "cell_type": "markdown",
   "id": "a2b7500e-fb6e-4958-85fe-f6225570a180",
   "metadata": {},
   "source": [
    "### 1.2. Visualizations\n",
    "- Display the distribution of products across different categories using a bar chart. If you face problems understanding the chart, do it for a subset of top categories.\n",
    "- For a subset of top categories, visualize their proportions using a pie chart. Does any category dominate the listings?"
   ]
  },
  {
   "cell_type": "code",
   "execution_count": 5,
   "id": "c372eadc-6b0d-463c-b910-c4d56d589ca7",
   "metadata": {
    "scrolled": true
   },
   "outputs": [],
   "source": [
    "frequency_table_top = frequency_table.head(10)"
   ]
  },
  {
   "cell_type": "code",
   "execution_count": 6,
   "id": "be3a6ed9-1fc5-492f-bb49-e09d83c74046",
   "metadata": {},
   "outputs": [
    {
     "data": {
      "image/png": "[encoded data removed]",
      "text/plain": [
       "<Figure size 640x480 with 1 Axes>"
      ]
     },
     "metadata": {},
     "output_type": "display_data"
    }
   ],
   "source": [
    "# Plotting a bar chart using the values from the frequency table, with colors sourced from the \"Set3\" palette\n",
    "sns.barplot(x=frequency_table_top.index, y=frequency_table_top.values, palette=\"Set3\")\n",
    "plt.xticks(rotation=45);"
   ]
  },
  {
   "cell_type": "code",
   "execution_count": 7,
   "id": "56f3cb2b-633f-48c8-9602-7666aac18ba9",
   "metadata": {},
   "outputs": [],
   "source": [
    "proportion_table_top = proportion_table.head(10) "
   ]
  },
  {
   "cell_type": "code",
   "execution_count": 8,
   "id": "5e508c10-3bdf-4768-b2d8-e4bea660c59f",
   "metadata": {},
   "outputs": [
    {
     "data": {
      "text/plain": [
       "<Axes: ylabel='proportion'>"
      ]
     },
     "execution_count": 8,
     "metadata": {},
     "output_type": "execute_result"
    },
    {
     "data": {
      "image/png": "[encoded data removed]",
      "text/plain": [
       "<Figure size 640x480 with 1 Axes>"
      ]
     },
     "metadata": {},
     "output_type": "display_data"
    }
   ],
   "source": [
    "proportion_table_top.plot.pie(autopct='%1.1f%%', startangle=90, colors=sns.color_palette(\"Set3\"))"
   ]
  },
  {
   "cell_type": "markdown",
   "id": "8f851dc3-e654-4e28-a9e8-568b813574f4",
   "metadata": {},
   "source": [
    "## Part 2: Delving into Product Pricing\n",
    "\n",
    "Business Question: How are products priced on Amazon UK, and are there specific price points or ranges that are more common?\n",
    "\n",
    "### 2.1. Measures of Centrality:\n",
    "\n",
    "- Calculate the mean, median, and mode for the price of products.\n",
    "- What's the average price point of products listed? How does this compare with the most common price point (mode)?\n"
   ]
  },
  {
   "cell_type": "code",
   "execution_count": 9,
   "id": "90e68be9-466e-4a08-9e7d-792803abe07b",
   "metadata": {},
   "outputs": [
    {
     "data": {
      "text/plain": [
       "(89.24380943923663, 19.09, 9.99)"
      ]
     },
     "execution_count": 9,
     "metadata": {},
     "output_type": "execute_result"
    }
   ],
   "source": [
    "mean_price = df['price'].mean()\n",
    "median_price = df['price'].median()\n",
    "mode_price = df['price'].mode()[0]\n",
    "\n",
    "mean_price, median_price, mode_price"
   ]
  },
  {
   "cell_type": "markdown",
   "id": "bc717e6b-9d97-4837-b99d-643ad52b2546",
   "metadata": {},
   "source": [
    "The large diff between the mean, median & mode indicates that there are many high-priced products that increase the average price. (high-priced outliers) \n",
    "The data suggests a right-skewed distribution of product prices."
   ]
  },
  {
   "cell_type": "markdown",
   "id": "ec703518-b512-42c5-835d-3ea3db650307",
   "metadata": {},
   "source": [
    "### 2.2. Measures of Dispersion:\n",
    "\n",
    "- Determine the variance, standard deviation, range, and interquartile range for product price.\n",
    "- How varied are the product prices? Are there any indicators of a significant spread in prices?"
   ]
  },
  {
   "cell_type": "code",
   "execution_count": 21,
   "id": "5c9c4207-b1b0-4803-b1d8-0a99ab72d982",
   "metadata": {},
   "outputs": [
    {
     "data": {
      "text/plain": [
       "(119445.4853225653,\n",
       " 345.6088617535223,\n",
       " 0.0,\n",
       " 100000.0,\n",
       " 100000.0,\n",
       " 0.25     9.99\n",
       " 0.50    19.09\n",
       " 0.75    45.99\n",
       " Name: price, dtype: float64)"
      ]
     },
     "execution_count": 21,
     "metadata": {},
     "output_type": "execute_result"
    }
   ],
   "source": [
    "variance_price = df['price'].var()\n",
    "std_dev_price = df['price'].std()\n",
    "min_price = df['price'].min()\n",
    "max_price = df['price'].max()\n",
    "range_price = max_price - min_price\n",
    "quantiles_price = df['price'].quantile([0.25, 0.5, 0.75])\n",
    "\n",
    "variance_price, std_dev_price, min_price, max_price, range_price, quantiles_price"
   ]
  },
  {
   "cell_type": "markdown",
   "id": "682872b6-3156-499f-9f44-abbb49790af5",
   "metadata": {},
   "source": [
    "##### Indicators of a Significant Spread in price:\n",
    "- High Variance and Standard Deviation: The high variance and standard deviation suggest significant variability and a wide spread in product prices.\n",
    "- Large Range: from 0.00 to 100000.00, indicates a very large spread in prices, with some products being extremely expensive.\n",
    "- Quantiles and IQR: While the IQR of 36.00 is moderate, the fact that the prices range up to $100000.00 indicates that there are outliers or a small number of extremely high-priced items."
   ]
  },
  {
   "cell_type": "markdown",
   "id": "4a436a89-ce47-45c5-8d78-c7049fd374ae",
   "metadata": {},
   "source": [
    "### 2.3. Visualizations:\n",
    "\n",
    "- Is there a specific price range where most products fall? Plot a histogram to visualize the distribution of product prices. If its hard to read these diagrams, think why this is, and explain how it could be solved.\n",
    "- Are there products that are priced significantly higher than the rest? Use a box plot to showcase the spread and potential outliers in product pricing."
   ]
  },
  {
   "cell_type": "code",
   "execution_count": 22,
   "id": "c6430b54-452d-4e5b-bb8d-4818c0bb2575",
   "metadata": {},
   "outputs": [
    {
     "name": "stderr",
     "output_type": "stream",
     "text": [
      "/opt/anaconda3/lib/python3.11/site-packages/seaborn/_oldcore.py:1119: FutureWarning: use_inf_as_na option is deprecated and will be removed in a future version. Convert inf values to NaN before operating instead.\n",
      "  with pd.option_context('mode.use_inf_as_na', True):\n"
     ]
    },
    {
     "data": {
      "text/plain": [
       "<Axes: xlabel='price', ylabel='Count'>"
      ]
     },
     "execution_count": 22,
     "metadata": {},
     "output_type": "execute_result"
    },
    {
     "data": {
      "image/png": "[encoded data removed]",
      "text/plain": [
       "<Figure size 640x480 with 1 Axes>"
      ]
     },
     "metadata": {},
     "output_type": "display_data"
    }
   ],
   "source": [
    "sns.histplot(df['price'], kde=True, bins=30, color=\"salmon\")"
   ]
  },
  {
   "cell_type": "markdown",
   "id": "310ba3af-7610-4b84-a885-4bf3340837db",
   "metadata": {},
   "source": [
    "?????? \n",
    "- If its hard to read these diagrams, think why this is, and explain how it could be solved."
   ]
  },
  {
   "cell_type": "code",
   "execution_count": 23,
   "id": "95fefe92-36fc-48fd-ab9f-385660134d22",
   "metadata": {},
   "outputs": [
    {
     "data": {
      "text/plain": [
       "<Axes: >"
      ]
     },
     "execution_count": 23,
     "metadata": {},
     "output_type": "execute_result"
    },
    {
     "data": {
      "image/png": "[encoded data removed]",
      "text/plain": [
       "<Figure size 640x480 with 1 Axes>"
      ]
     },
     "metadata": {},
     "output_type": "display_data"
    }
   ],
   "source": [
    "# Plotting a boxplot for the 'price' column with a light blue color\n",
    "sns.boxplot(data = df['price'], color=\"lightblue\")"
   ]
  },
  {
   "cell_type": "markdown",
   "id": "e3d899cc-99a0-4af7-a9b7-1c8807f187a8",
   "metadata": {},
   "source": [
    "## Part 3: Unpacking Product Ratings\n",
    "\n",
    "Business Question: How do customers rate products on Amazon UK, and are there any patterns or tendencies in the ratings?\n",
    "\n",
    "### 3.1 Measures of Centrality:\n",
    "\n",
    "- Calculate the mean, median, and mode for the rating of products.\n",
    "- How do customers generally rate products? Is there a common trend?"
   ]
  },
  {
   "cell_type": "code",
   "execution_count": 24,
   "id": "e3654001-8673-42db-8145-a799b10c2e82",
   "metadata": {},
   "outputs": [
    {
     "data": {
      "text/plain": [
       "(2.152836472966065, 0.0, 0.0)"
      ]
     },
     "execution_count": 24,
     "metadata": {},
     "output_type": "execute_result"
    }
   ],
   "source": [
    "mean_price = df['stars'].mean()\n",
    "median_price = df['stars'].median()\n",
    "mode_price = df['stars'].mode()[0]\n",
    "\n",
    "mean_price, median_price, mode_price"
   ]
  },
  {
   "cell_type": "markdown",
   "id": "28e74a12-5109-4196-83e0-1b41ca116284",
   "metadata": {},
   "source": [
    "Customers generally rate products very poorly or do not rate them at all. The most common rating is 0.0, and the median rating being 0.0 supports this trend. The low mean rating of 2.15 is low, suggesting customers are unhappy or not using the rating system."
   ]
  },
  {
   "cell_type": "markdown",
   "id": "e5d97859-0ed8-41e8-ba6a-518d6cf3d230",
   "metadata": {},
   "source": [
    "### 3.2. Measures of Dispersion:\n",
    "\n",
    "- Determine the variance, standard deviation, and interquartile range for product rating.\n",
    "- Are the ratings consistent, or is there a wide variation in customer feedback?"
   ]
  },
  {
   "cell_type": "code",
   "execution_count": 26,
   "id": "710e1611-da8d-4062-87da-ea3108a6d6c5",
   "metadata": {},
   "outputs": [
    {
     "data": {
      "text/plain": [
       "(4.81743402976196,\n",
       " 2.1948653785054697,\n",
       " 0.0,\n",
       " 5.0,\n",
       " 5.0,\n",
       " 0.25    0.0\n",
       " 0.50    0.0\n",
       " 0.75    4.4\n",
       " Name: stars, dtype: float64)"
      ]
     },
     "execution_count": 26,
     "metadata": {},
     "output_type": "execute_result"
    }
   ],
   "source": [
    "variance_price = df['stars'].var()\n",
    "std_dev_price = df['stars'].std()\n",
    "min_price = df['stars'].min()\n",
    "max_price = df['stars'].max()\n",
    "range_price = max_price - min_price\n",
    "quantiles_price = df['stars'].quantile([0.25, 0.5, 0.75])\n",
    "\n",
    "variance_price, std_dev_price, min_price, max_price, range_price, quantiles_price"
   ]
  },
  {
   "cell_type": "markdown",
   "id": "5d683a8e-95bf-49a4-93cd-10e2e5573df1",
   "metadata": {},
   "source": [
    "There is a wide variation in customer feedback. \n",
    "Many products are rated very poorly or not at all (with a median of 0.0), but there are also products with high ratings (up to 5.0)... this indicates inconsistency."
   ]
  },
  {
   "cell_type": "markdown",
   "id": "56d079ce-e1c1-49ec-8e7e-26297357dd9a",
   "metadata": {},
   "source": [
    "### 3.3. Shape of the Distribution:\n",
    "\n",
    "- Calculate the skewness and kurtosis for the rating column.\n",
    "- Are the ratings normally distributed, or do they lean towards higher or lower values?"
   ]
  },
  {
   "cell_type": "code",
   "execution_count": 27,
   "id": "b8e9ed76-5ebf-4168-a0cb-33b6f1beeddc",
   "metadata": {},
   "outputs": [
    {
     "data": {
      "text/plain": [
       "(0.08120735761080985, -1.9260061280432985)"
      ]
     },
     "execution_count": 27,
     "metadata": {},
     "output_type": "execute_result"
    }
   ],
   "source": [
    "skewness_price = df['stars'].skew()\n",
    "kurtosis_price = df['stars'].kurtosis()\n",
    "\n",
    "skewness_price, kurtosis_price"
   ]
  },
  {
   "cell_type": "markdown",
   "id": "fd06aa0e-1cf5-458c-b904-259949012a06",
   "metadata": {},
   "source": [
    "- A skewness of 0.081 is very close to 0, suggesting that the distribution of ratings is nearly symmetric with a slight lean towards higher values.\n",
    "- A kurtosis of -1.926 indicates that the distribution is much flatter than a normal distribution and has lighter tails. This suggests that extreme values (both high and low) are less frequent than in a normal distribution."
   ]
  },
  {
   "cell_type": "markdown",
   "id": "b50ca5bf-432c-40a5-a484-67048437dc8c",
   "metadata": {},
   "source": [
    "### 3.4. Visualizations:\n",
    "\n",
    "- Plot a histogram to visualize the distribution of product ratings. Is there a specific rating that is more common?"
   ]
  },
  {
   "cell_type": "code",
   "execution_count": 29,
   "id": "6ebdff04-6ce4-4920-a7c1-cede26e81c95",
   "metadata": {},
   "outputs": [
    {
     "name": "stderr",
     "output_type": "stream",
     "text": [
      "/opt/anaconda3/lib/python3.11/site-packages/seaborn/_oldcore.py:1119: FutureWarning: use_inf_as_na option is deprecated and will be removed in a future version. Convert inf values to NaN before operating instead.\n",
      "  with pd.option_context('mode.use_inf_as_na', True):\n"
     ]
    },
    {
     "data": {
      "text/plain": [
       "<Axes: xlabel='stars', ylabel='Count'>"
      ]
     },
     "execution_count": 29,
     "metadata": {},
     "output_type": "execute_result"
    },
    {
     "data": {
      "image/png": "[encoded data removed]",
      "text/plain": [
       "<Figure size 640x480 with 1 Axes>"
      ]
     },
     "metadata": {},
     "output_type": "display_data"
    }
   ],
   "source": [
    "sns.histplot(df['stars'], kde=True, bins=30, color=\"salmon\")"
   ]
  },
  {
   "cell_type": "markdown",
   "id": "7444b585-e066-458b-a5dc-ec417493a971",
   "metadata": {},
   "source": [
    "Most customers do not use the rating system. "
   ]
  }
 ],
 "metadata": {
  "kernelspec": {
   "display_name": "Python 3 (ipykernel)",
   "language": "python",
   "name": "python3"
  },
  "language_info": {
   "codemirror_mode": {
    "name": "ipython",
    "version": 3
   },
   "file_extension": ".py",
   "mimetype": "text/x-python",
   "name": "python",
   "nbconvert_exporter": "python",
   "pygments_lexer": "ipython3",
   "version": "3.11.7"
  }
 },
 "nbformat": 4,
 "nbformat_minor": 5
}
